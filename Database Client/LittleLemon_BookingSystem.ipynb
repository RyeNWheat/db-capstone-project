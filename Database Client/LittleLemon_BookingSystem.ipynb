{
 "cells": [
  {
   "cell_type": "code",
   "execution_count": 49,
   "id": "0bea0433",
   "metadata": {},
   "outputs": [],
   "source": [
    "import mysql.connector as connector"
   ]
  },
  {
   "cell_type": "code",
   "execution_count": 50,
   "id": "19123cdf",
   "metadata": {},
   "outputs": [],
   "source": [
    "connection = connector.connect(user = \"root\", password = \"MySql123\")"
   ]
  },
  {
   "cell_type": "code",
   "execution_count": 51,
   "id": "28baa80c",
   "metadata": {},
   "outputs": [],
   "source": [
    "connection = connector.connect(user = \"root\", password = \"MySql123\", db = \"Little_Lemon\")"
   ]
  },
  {
   "cell_type": "code",
   "execution_count": 52,
   "id": "9cd18c33",
   "metadata": {},
   "outputs": [],
   "source": [
    "show_tables_query = \"SHOW tables\" \n",
    "\n"
   ]
  },
  {
   "cell_type": "code",
   "execution_count": 53,
   "id": "54c1e151",
   "metadata": {},
   "outputs": [],
   "source": [
    "cursor = connection.cursor()"
   ]
  },
  {
   "cell_type": "code",
   "execution_count": 54,
   "id": "48d7bc9f",
   "metadata": {},
   "outputs": [],
   "source": [
    "cursor.execute(show_tables_query)"
   ]
  },
  {
   "cell_type": "code",
   "execution_count": 55,
   "id": "058e3f00",
   "metadata": {
    "scrolled": true
   },
   "outputs": [
    {
     "name": "stdout",
     "output_type": "stream",
     "text": [
      "bookings\n",
      "contactdetails\n",
      "customers\n",
      "menucontent\n",
      "menuitems\n",
      "menus\n",
      "orderdeliverystatus\n",
      "orders\n",
      "roles\n",
      "staff\n"
     ]
    }
   ],
   "source": [
    "results = cursor.fetchall()\n",
    "for result in results:\n",
    "    print(result[0])"
   ]
  },
  {
   "cell_type": "code",
   "execution_count": 57,
   "id": "af8668d6",
   "metadata": {},
   "outputs": [],
   "source": [
    "query = \"\"\"SELECT Name, Email, PhoneNumber, Address\n",
    "FROM customers c\n",
    "JOIN orders o ON c.CustomerID = o.CustomerID\n",
    "JOIN contactdetails cd ON c.CustomerID = cd.CustomerID\n",
    "WHERE o.TotalCost > 60;\"\"\""
   ]
  },
  {
   "cell_type": "code",
   "execution_count": 58,
   "id": "e7701ad2",
   "metadata": {},
   "outputs": [],
   "source": [
    "cursor.execute(query)\n",
    "results = cursor.fetchall()"
   ]
  },
  {
   "cell_type": "code",
   "execution_count": 59,
   "id": "8a409fd6",
   "metadata": {},
   "outputs": [
    {
     "name": "stdout",
     "output_type": "stream",
     "text": [
      "('Name', 'Email', 'PhoneNumber', 'Address')\n",
      "('Emily Watson', 'emily.watson@gmail.com', '555-5678', '456 Oak Ave')\n",
      "('William Brown', 'william.brown@gmail.com', '555-9012', '789 Maple Dr')\n",
      "('Sophia Johnson', 'sophia.johnson@gmail.com', '555-3456', '321 Elm St')\n",
      "('Emma Martinez', 'emma.martinez@gmail.com', '555-2345', '987 Cedar Blvd')\n",
      "('Ava Wilson', 'mia.miller@gmail.com', '555-0123', '876 Oakwood Ln')\n"
     ]
    }
   ],
   "source": [
    "print(cursor.column_names)\n",
    "for customer in results:\n",
    "    print(customer)"
   ]
  },
  {
   "cell_type": "code",
   "execution_count": 60,
   "id": "60c90932",
   "metadata": {},
   "outputs": [
    {
     "name": "stdout",
     "output_type": "stream",
     "text": [
      "MySQL connection closed.\n"
     ]
    }
   ],
   "source": [
    "if connection.is_connected():\n",
    "    cursor.close()\n",
    "    connection.close()\n",
    "    print(\"MySQL connection closed.\")\n",
    "else:\n",
    "    print(\"MySQL connection already closed.\")"
   ]
  },
  {
   "cell_type": "code",
   "execution_count": null,
   "id": "8243ca24",
   "metadata": {},
   "outputs": [],
   "source": []
  }
 ],
 "metadata": {
  "kernelspec": {
   "display_name": "Python 3 (ipykernel)",
   "language": "python",
   "name": "python3"
  },
  "language_info": {
   "codemirror_mode": {
    "name": "ipython",
    "version": 3
   },
   "file_extension": ".py",
   "mimetype": "text/x-python",
   "name": "python",
   "nbconvert_exporter": "python",
   "pygments_lexer": "ipython3",
   "version": "3.10.6"
  }
 },
 "nbformat": 4,
 "nbformat_minor": 5
}
